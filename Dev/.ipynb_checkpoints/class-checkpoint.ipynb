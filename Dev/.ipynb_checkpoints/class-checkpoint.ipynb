{
 "cells": [
  {
   "cell_type": "code",
   "execution_count": 16,
   "id": "4db12bf9",
   "metadata": {},
   "outputs": [],
   "source": [
    "# \n",
    "class Time(object):\n",
    "    hour = 0\n",
    "    minute = 0\n",
    "    second = 0.0\n",
    "    def __init__(self, hour):\n",
    "        self.watch = 1 \n",
    "        self.hour = hour\n",
    "        \n",
    "    def running(self,):\n",
    "        while self.hour < 24:\n",
    "            print(self.hour)\n",
    "            self.hour+=1"
   ]
  },
  {
   "cell_type": "code",
   "execution_count": 17,
   "id": "81fef883",
   "metadata": {},
   "outputs": [],
   "source": [
    "time = Time(11)"
   ]
  },
  {
   "cell_type": "code",
   "execution_count": 18,
   "id": "4a33228b",
   "metadata": {},
   "outputs": [
    {
     "name": "stdout",
     "output_type": "stream",
     "text": [
      "11\n",
      "12\n",
      "13\n",
      "14\n",
      "15\n",
      "16\n",
      "17\n",
      "18\n",
      "19\n",
      "20\n",
      "21\n",
      "22\n",
      "23\n"
     ]
    }
   ],
   "source": [
    "getattr(time, \"running\")()"
   ]
  },
  {
   "cell_type": "code",
   "execution_count": null,
   "id": "405cca05",
   "metadata": {},
   "outputs": [],
   "source": []
  }
 ],
 "metadata": {
  "kernelspec": {
   "display_name": "Python 3",
   "language": "python",
   "name": "python3"
  },
  "language_info": {
   "codemirror_mode": {
    "name": "ipython",
    "version": 3
   },
   "file_extension": ".py",
   "mimetype": "text/x-python",
   "name": "python",
   "nbconvert_exporter": "python",
   "pygments_lexer": "ipython3",
   "version": "3.8.8"
  }
 },
 "nbformat": 4,
 "nbformat_minor": 5
}
