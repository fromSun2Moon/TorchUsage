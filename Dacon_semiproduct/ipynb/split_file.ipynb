{
 "cells": [
  {
   "cell_type": "code",
   "execution_count": 1,
   "metadata": {},
   "outputs": [],
   "source": [
    "from itertools import chain\n",
    "import numpy as np\n",
    "import pandas as pd"
   ]
  },
  {
   "cell_type": "code",
   "execution_count": 2,
   "metadata": {},
   "outputs": [],
   "source": [
    "path_train = 'data/train.csv'"
   ]
  },
  {
   "cell_type": "code",
   "execution_count": 3,
   "metadata": {},
   "outputs": [],
   "source": [
    "train = pd.read_csv(path_train)"
   ]
  },
  {
   "cell_type": "code",
   "execution_count": 4,
   "metadata": {},
   "outputs": [
    {
     "data": {
      "text/html": [
       "<div>\n",
       "<style scoped>\n",
       "    .dataframe tbody tr th:only-of-type {\n",
       "        vertical-align: middle;\n",
       "    }\n",
       "\n",
       "    .dataframe tbody tr th {\n",
       "        vertical-align: top;\n",
       "    }\n",
       "\n",
       "    .dataframe thead th {\n",
       "        text-align: right;\n",
       "    }\n",
       "</style>\n",
       "<table border=\"1\" class=\"dataframe\">\n",
       "  <thead>\n",
       "    <tr style=\"text-align: right;\">\n",
       "      <th></th>\n",
       "      <th>layer_1</th>\n",
       "      <th>layer_2</th>\n",
       "      <th>layer_3</th>\n",
       "      <th>layer_4</th>\n",
       "      <th>0</th>\n",
       "      <th>1</th>\n",
       "      <th>2</th>\n",
       "      <th>3</th>\n",
       "      <th>4</th>\n",
       "      <th>5</th>\n",
       "      <th>...</th>\n",
       "      <th>216</th>\n",
       "      <th>217</th>\n",
       "      <th>218</th>\n",
       "      <th>219</th>\n",
       "      <th>220</th>\n",
       "      <th>221</th>\n",
       "      <th>222</th>\n",
       "      <th>223</th>\n",
       "      <th>224</th>\n",
       "      <th>225</th>\n",
       "    </tr>\n",
       "  </thead>\n",
       "  <tbody>\n",
       "    <tr>\n",
       "      <th>0</th>\n",
       "      <td>10</td>\n",
       "      <td>10</td>\n",
       "      <td>10</td>\n",
       "      <td>10</td>\n",
       "      <td>0.254551</td>\n",
       "      <td>0.258823</td>\n",
       "      <td>0.254659</td>\n",
       "      <td>0.252085</td>\n",
       "      <td>0.247678</td>\n",
       "      <td>0.253614</td>\n",
       "      <td>...</td>\n",
       "      <td>0.354750</td>\n",
       "      <td>0.369223</td>\n",
       "      <td>0.388184</td>\n",
       "      <td>0.408496</td>\n",
       "      <td>0.414564</td>\n",
       "      <td>0.429403</td>\n",
       "      <td>0.419225</td>\n",
       "      <td>0.443250</td>\n",
       "      <td>0.433414</td>\n",
       "      <td>0.465502</td>\n",
       "    </tr>\n",
       "    <tr>\n",
       "      <th>1</th>\n",
       "      <td>10</td>\n",
       "      <td>10</td>\n",
       "      <td>10</td>\n",
       "      <td>20</td>\n",
       "      <td>0.205062</td>\n",
       "      <td>0.225544</td>\n",
       "      <td>0.217758</td>\n",
       "      <td>0.202169</td>\n",
       "      <td>0.199633</td>\n",
       "      <td>0.207380</td>\n",
       "      <td>...</td>\n",
       "      <td>0.557203</td>\n",
       "      <td>0.573656</td>\n",
       "      <td>0.587998</td>\n",
       "      <td>0.612754</td>\n",
       "      <td>0.627825</td>\n",
       "      <td>0.633393</td>\n",
       "      <td>0.637706</td>\n",
       "      <td>0.625981</td>\n",
       "      <td>0.653231</td>\n",
       "      <td>0.637853</td>\n",
       "    </tr>\n",
       "    <tr>\n",
       "      <th>2</th>\n",
       "      <td>10</td>\n",
       "      <td>10</td>\n",
       "      <td>10</td>\n",
       "      <td>30</td>\n",
       "      <td>0.189196</td>\n",
       "      <td>0.165869</td>\n",
       "      <td>0.177655</td>\n",
       "      <td>0.156822</td>\n",
       "      <td>0.175094</td>\n",
       "      <td>0.177755</td>\n",
       "      <td>...</td>\n",
       "      <td>0.699864</td>\n",
       "      <td>0.708688</td>\n",
       "      <td>0.721982</td>\n",
       "      <td>0.713464</td>\n",
       "      <td>0.743030</td>\n",
       "      <td>0.741709</td>\n",
       "      <td>0.747743</td>\n",
       "      <td>0.746037</td>\n",
       "      <td>0.737356</td>\n",
       "      <td>0.750391</td>\n",
       "    </tr>\n",
       "    <tr>\n",
       "      <th>3</th>\n",
       "      <td>10</td>\n",
       "      <td>10</td>\n",
       "      <td>10</td>\n",
       "      <td>40</td>\n",
       "      <td>0.131003</td>\n",
       "      <td>0.120076</td>\n",
       "      <td>0.138975</td>\n",
       "      <td>0.117931</td>\n",
       "      <td>0.130566</td>\n",
       "      <td>0.131262</td>\n",
       "      <td>...</td>\n",
       "      <td>0.764786</td>\n",
       "      <td>0.763788</td>\n",
       "      <td>0.770017</td>\n",
       "      <td>0.787571</td>\n",
       "      <td>0.778866</td>\n",
       "      <td>0.776969</td>\n",
       "      <td>0.774712</td>\n",
       "      <td>0.801526</td>\n",
       "      <td>0.805305</td>\n",
       "      <td>0.784057</td>\n",
       "    </tr>\n",
       "    <tr>\n",
       "      <th>4</th>\n",
       "      <td>10</td>\n",
       "      <td>10</td>\n",
       "      <td>10</td>\n",
       "      <td>50</td>\n",
       "      <td>0.091033</td>\n",
       "      <td>0.086893</td>\n",
       "      <td>0.108125</td>\n",
       "      <td>0.080405</td>\n",
       "      <td>0.105917</td>\n",
       "      <td>0.077083</td>\n",
       "      <td>...</td>\n",
       "      <td>0.786677</td>\n",
       "      <td>0.802271</td>\n",
       "      <td>0.806557</td>\n",
       "      <td>0.799614</td>\n",
       "      <td>0.789333</td>\n",
       "      <td>0.804087</td>\n",
       "      <td>0.787763</td>\n",
       "      <td>0.794948</td>\n",
       "      <td>0.819105</td>\n",
       "      <td>0.801781</td>\n",
       "    </tr>\n",
       "  </tbody>\n",
       "</table>\n",
       "<p>5 rows × 230 columns</p>\n",
       "</div>"
      ],
      "text/plain": [
       "   layer_1  layer_2  layer_3  layer_4         0         1         2         3  \\\n",
       "0       10       10       10       10  0.254551  0.258823  0.254659  0.252085   \n",
       "1       10       10       10       20  0.205062  0.225544  0.217758  0.202169   \n",
       "2       10       10       10       30  0.189196  0.165869  0.177655  0.156822   \n",
       "3       10       10       10       40  0.131003  0.120076  0.138975  0.117931   \n",
       "4       10       10       10       50  0.091033  0.086893  0.108125  0.080405   \n",
       "\n",
       "          4         5  ...       216       217       218       219       220  \\\n",
       "0  0.247678  0.253614  ...  0.354750  0.369223  0.388184  0.408496  0.414564   \n",
       "1  0.199633  0.207380  ...  0.557203  0.573656  0.587998  0.612754  0.627825   \n",
       "2  0.175094  0.177755  ...  0.699864  0.708688  0.721982  0.713464  0.743030   \n",
       "3  0.130566  0.131262  ...  0.764786  0.763788  0.770017  0.787571  0.778866   \n",
       "4  0.105917  0.077083  ...  0.786677  0.802271  0.806557  0.799614  0.789333   \n",
       "\n",
       "        221       222       223       224       225  \n",
       "0  0.429403  0.419225  0.443250  0.433414  0.465502  \n",
       "1  0.633393  0.637706  0.625981  0.653231  0.637853  \n",
       "2  0.741709  0.747743  0.746037  0.737356  0.750391  \n",
       "3  0.776969  0.774712  0.801526  0.805305  0.784057  \n",
       "4  0.804087  0.787763  0.794948  0.819105  0.801781  \n",
       "\n",
       "[5 rows x 230 columns]"
      ]
     },
     "execution_count": 4,
     "metadata": {},
     "output_type": "execute_result"
    }
   ],
   "source": [
    "train.head()"
   ]
  },
  {
   "cell_type": "code",
   "execution_count": 5,
   "metadata": {},
   "outputs": [],
   "source": [
    "values = train.iloc[:,4:]"
   ]
  },
  {
   "cell_type": "code",
   "execution_count": 6,
   "metadata": {
    "scrolled": true
   },
   "outputs": [
    {
     "data": {
      "text/plain": [
       "array([0.20506245, 0.2255443 , 0.21775755, 0.20216885, 0.1996333 ,\n",
       "       0.20737952, 0.19131805, 0.19536924, 0.20053568, 0.19758782,\n",
       "       0.19872643, 0.1918032 , 0.19962463, 0.20646489, 0.18283595,\n",
       "       0.19334057, 0.18045883, 0.19641563, 0.18539828, 0.18891275,\n",
       "       0.17601077, 0.17345677, 0.18224865, 0.1768161 , 0.19271626,\n",
       "       0.18592404, 0.1838156 , 0.18689981, 0.16104   , 0.17352451,\n",
       "       0.17294766, 0.18263368, 0.16115268, 0.15807323, 0.15233509,\n",
       "       0.1482927 , 0.17391315, 0.16462995, 0.16649805, 0.14994623,\n",
       "       0.1574796 , 0.14038496, 0.15137258, 0.16442259, 0.15981871,\n",
       "       0.14218284, 0.15911123, 0.13575447, 0.15553793, 0.15376417,\n",
       "       0.14798799, 0.14142957, 0.14715695, 0.12831989, 0.143349  ,\n",
       "       0.1349821 , 0.11549065, 0.12390672, 0.11634263, 0.1395152 ,\n",
       "       0.1228875 , 0.12195207, 0.12470908, 0.11517239, 0.10678881,\n",
       "       0.12566887, 0.10533553, 0.11338925, 0.10338932, 0.09819279,\n",
       "       0.11951155, 0.12137839, 0.11964115, 0.11665486, 0.11134352,\n",
       "       0.09685753, 0.08804761, 0.09645162, 0.08994544, 0.08568603,\n",
       "       0.08204714, 0.10077561, 0.07825101, 0.09958774, 0.07982252,\n",
       "       0.07664574, 0.07578857, 0.09198065, 0.07818227, 0.08240888,\n",
       "       0.08550904, 0.09357607, 0.0886625 , 0.07419579, 0.06924094,\n",
       "       0.06617419, 0.072723  , 0.07079133, 0.07591878, 0.08208043,\n",
       "       0.08187435, 0.0690616 , 0.07141183, 0.065123  , 0.08290353,\n",
       "       0.0608603 , 0.0796815 , 0.08191605, 0.08181978, 0.06651314,\n",
       "       0.07006896, 0.07662483, 0.06749181, 0.07068986, 0.06615385,\n",
       "       0.07469682, 0.06311208, 0.08641748, 0.06578713, 0.07990979,\n",
       "       0.07490645, 0.08433404, 0.09713321, 0.08928797, 0.0726872 ,\n",
       "       0.08607282, 0.09099145, 0.09440795, 0.10145592, 0.09225023,\n",
       "       0.09072236, 0.10155905, 0.12228222, 0.10409899, 0.13032317,\n",
       "       0.12465641, 0.12727953, 0.14528991, 0.1381832 , 0.15163915,\n",
       "       0.14803019, 0.16966586, 0.17040536, 0.17827377, 0.1752292 ,\n",
       "       0.19643396, 0.1961961 , 0.18631132, 0.18645021, 0.20850159,\n",
       "       0.2171128 , 0.20662546, 0.21567969, 0.22828855, 0.21749625,\n",
       "       0.23346998, 0.22364922, 0.23243816, 0.23667794, 0.23564036,\n",
       "       0.21797335, 0.23418944, 0.23030424, 0.22335   , 0.23720406,\n",
       "       0.23544262, 0.2562316 , 0.23522665, 0.26610658, 0.25152177,\n",
       "       0.25564557, 0.24973193, 0.25902173, 0.26975736, 0.2898205 ,\n",
       "       0.2695125 , 0.29910624, 0.3013078 , 0.29343706, 0.29451385,\n",
       "       0.29662248, 0.31291115, 0.3005544 , 0.3050051 , 0.32230142,\n",
       "       0.31657782, 0.32707557, 0.33119518, 0.3377222 , 0.34018925,\n",
       "       0.3427482 , 0.35192528, 0.3729888 , 0.38966262, 0.39621612,\n",
       "       0.38497734, 0.38370076, 0.40389442, 0.406382  , 0.4293421 ,\n",
       "       0.4099077 , 0.43930745, 0.43256864, 0.4391137 , 0.45954087,\n",
       "       0.45498773, 0.4752684 , 0.47857454, 0.48346633, 0.4969124 ,\n",
       "       0.49954188, 0.5227048 , 0.5247673 , 0.5339518 , 0.55872893,\n",
       "       0.5724705 , 0.55720276, 0.5736561 , 0.5879976 , 0.61275405,\n",
       "       0.62782496, 0.6333933 , 0.6377064 , 0.6259808 , 0.6532309 ,\n",
       "       0.6378534 ])"
      ]
     },
     "execution_count": 6,
     "metadata": {},
     "output_type": "execute_result"
    }
   ],
   "source": [
    "values.values[1]"
   ]
  },
  {
   "cell_type": "code",
   "execution_count": 7,
   "metadata": {},
   "outputs": [
    {
     "data": {
      "text/plain": [
       "81000.0"
      ]
     },
     "execution_count": 7,
     "metadata": {},
     "output_type": "execute_result"
    }
   ],
   "source": [
    "len(values) * 0.1"
   ]
  },
  {
   "cell_type": "code",
   "execution_count": 8,
   "metadata": {},
   "outputs": [],
   "source": [
    "cols = [str(i) for i in np.arange(0,227).tolist()]"
   ]
  },
  {
   "cell_type": "code",
   "execution_count": 9,
   "metadata": {},
   "outputs": [],
   "source": [
    "l = []\n",
    "for i in range(len(values)):\n",
    "    if len(np.where(values.values[i] < 0)[0]) > 0:\n",
    "        l.append(1)  # -있는경우\n",
    "    else:\n",
    "        l.append(0)\n",
    "\n",
    "np.array(l).reshape(-1,1)\n",
    "\n",
    "new = np.concatenate((values, np.array(l).reshape(-1,1)), axis=1)\n",
    "\n",
    "new = pd.DataFrame(data=new,columns=cols)\n"
   ]
  },
  {
   "cell_type": "code",
   "execution_count": 10,
   "metadata": {},
   "outputs": [
    {
     "name": "stdout",
     "output_type": "stream",
     "text": [
      "(810000, 230)\n",
      "train file saved....\n"
     ]
    }
   ],
   "source": [
    "layers = [['layer_1','layer_2','layer_3','layer_4'], [str(i) for i in np.arange(0,226).tolist()]]\n",
    "layers = list(chain(*layers))\n",
    "# split data\n",
    "train = pd.read_csv(path_train)\n",
    "print(train.shape)\n",
    "train = train.sample(frac=1)\n",
    "rows, cols = train.shape\n",
    "\n",
<<<<<<< HEAD
    "train_splited = train.iloc[:rows - 80000,:]\n",
    "train_splited = traoin_splited.values\n",
    "train_splited = pd.DataFrame(data=train_splited,columns=layers)\n",
    "train_splited.to_csv('data/train_splited.csv', index_label='id')\n",
=======
    "train1 = train.iloc[:rows - 80000,:]\n",
    "train1 = train1.values\n",
    "train1 = pd.DataFrame(data=train1,columns=layers)\n",
    "train1.to_csv('../data/train_splited.csv', index_label='id')\n",
>>>>>>> 516db2ab0641c3400f2da296e1eb1456c9624213
    "\n",
    "print(\"train file saved....\")\n",
    "val = train.iloc[rows - 80000:,:]\n",
    "val = val.values\n",
    "val = pd.DataFrame(data=val,columns=layers)\n",
    "val.to_csv('../data/val.csv', index_label='id')"
   ]
  },
  {
   "cell_type": "code",
   "execution_count": null,
   "metadata": {},
   "outputs": [],
   "source": []
  }
 ],
 "metadata": {
  "kernelspec": {
   "display_name": "Python 3",
   "language": "python",
   "name": "python3"
  },
  "language_info": {
   "codemirror_mode": {
    "name": "ipython",
    "version": 3
   },
   "file_extension": ".py",
   "mimetype": "text/x-python",
   "name": "python",
   "nbconvert_exporter": "python",
   "pygments_lexer": "ipython3",
   "version": "3.8.3"
  }
 },
 "nbformat": 4,
 "nbformat_minor": 2
}
