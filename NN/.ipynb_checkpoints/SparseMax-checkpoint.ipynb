{
 "cells": [
  {
   "cell_type": "markdown",
   "metadata": {},
   "source": [
    "# Sparsemax\n",
    "\n",
    "sparsemax 정리, 만드는 과정을 요약하면 tau(임계점)을 지정하고 그 값을 넘지 못하는 값은 0으로 만든다. tau의 value와 X에서 몇 개를 선택할 것인지(support_size)를 최적화시키는 것이 목적이고 tau 값은 X(기존 logit값)에서 만들어진다.\n",
    "\n",
    "1. X(logits) 값에서 가장 큰 값을 빼주어 스케일링을 한 후 ;(애초에 logits 값에서 가장 큰 값을 기준으로 모두 빼주므로) 가장 큰 값에서 차이가 많았던 값들은 차이가 큰 음수 값으로 보내진다.\n",
    "2. 스케일링 된 값들은 위치로 만들어진 가중치들과 곱해져서 축적합과 비교된 후, dim기준으로 축적합을 넘지 못하는 값은 False로 반환\n",
    "3. 잘려진 축적합에 support_size를 나눠주면 tau가 정해진다.\n",
    "4. tau와 스케일링 된 logits값을 비교해서 작은 것은 0으로 나머지는 보존.\n",
    "\n"
   ]
  },
  {
   "cell_type": "code",
   "execution_count": 1,
   "metadata": {},
   "outputs": [],
   "source": [
    "import torch\n",
    "import torch.nn as nn\n",
    "from torch.autograd import Function\n",
    "\n",
    "from matplotlib import pyplot as plt\n",
    "import numpy as np"
   ]
  },
  {
   "cell_type": "code",
   "execution_count": 2,
   "metadata": {},
   "outputs": [],
   "source": [
    "# \n",
    "X = torch.rand(1,1,200,200)\n",
    "dim=-1\n"
   ]
  },
  {
   "cell_type": "code",
   "execution_count": 3,
   "metadata": {},
   "outputs": [
    {
     "data": {
      "text/plain": [
       "tensor([[[[0.8054, 0.5984, 0.1366,  ..., 0.8235, 0.5326, 0.0519],\n",
       "          [1.0000, 0.9807, 0.2148,  ..., 0.2384, 0.1162, 0.0620],\n",
       "          [0.0760, 0.8849, 0.7447,  ..., 0.0352, 0.2145, 0.9048],\n",
       "          ...,\n",
       "          [0.5857, 0.2035, 0.2517,  ..., 0.2025, 0.6658, 0.2929],\n",
       "          [0.1201, 0.4569, 0.7379,  ..., 0.5866, 0.2660, 0.5805],\n",
       "          [0.2429, 0.8839, 0.8786,  ..., 0.0426, 0.5198, 0.6310]]]])"
      ]
     },
     "execution_count": 3,
     "metadata": {},
     "output_type": "execute_result"
    }
   ],
   "source": [
    "X"
   ]
  },
  {
   "cell_type": "code",
   "execution_count": 59,
   "metadata": {},
   "outputs": [],
   "source": [
    "rhos = _make_ix_like(X,dim=dim)"
   ]
  },
  {
   "cell_type": "code",
   "execution_count": 11,
   "metadata": {},
   "outputs": [],
   "source": [
    "tau, support_size = _sparsemax_threshold_and_support(X) "
   ]
  },
  {
   "cell_type": "code",
   "execution_count": 110,
   "metadata": {},
   "outputs": [
    {
     "data": {
      "text/plain": [
       "<BarContainer object of 200 artists>"
      ]
     },
     "execution_count": 110,
     "metadata": {},
     "output_type": "execute_result"
    },
    {
     "data": {
      "image/png": "[encoded data removed]",
      "text/plain": [
       "<Figure size 432x288 with 1 Axes>"
      ]
     },
     "metadata": {
      "needs_background": "light"
     },
     "output_type": "display_data"
    }
   ],
   "source": [
    "plt.bar(np.arange(tau.shape[2]),tau[0,0,:,:].permute(1,0).squeeze(), align='center')"
   ]
  },
  {
   "cell_type": "code",
   "execution_count": 115,
   "metadata": {},
   "outputs": [
    {
     "data": {
      "text/plain": [
       "(array([ 1.,  0.,  0.,  0.,  1.,  1.,  0.,  0.,  1.,  0.,  2.,  4.,  1.,\n",
       "         9.,  7., 12., 12.,  7., 13., 15., 23., 21., 10., 10., 12., 15.,\n",
       "         5.,  8.,  3.,  7.]),\n",
       " array([0.848301  , 0.8507566 , 0.85321224, 0.8556678 , 0.8581235 ,\n",
       "        0.8605791 , 0.86303467, 0.8654903 , 0.8679459 , 0.87040156,\n",
       "        0.87285715, 0.87531275, 0.8777684 , 0.880224  , 0.88267964,\n",
       "        0.88513523, 0.8875908 , 0.8900465 , 0.89250207, 0.8949577 ,\n",
       "        0.8974133 , 0.8998689 , 0.90232456, 0.90478015, 0.9072358 ,\n",
       "        0.9096914 , 0.912147  , 0.91460264, 0.9170582 , 0.9195139 ,\n",
       "        0.9219695 ], dtype=float32),\n",
       " <a list of 30 Patch objects>)"
      ]
     },
     "execution_count": 115,
     "metadata": {},
     "output_type": "execute_result"
    },
    {
     "data": {
      "image/png": "[encoded data removed]",
      "text/plain": [
       "<Figure size 432x288 with 1 Axes>"
      ]
     },
     "metadata": {
      "needs_background": "light"
     },
     "output_type": "display_data"
    }
   ],
   "source": [
    "x =tau[0,0,:,:].permute(1,0).squeeze()\n",
    "plt.hist(x, bins=30)"
   ]
  },
  {
   "cell_type": "code",
   "execution_count": 116,
   "metadata": {},
   "outputs": [],
   "source": [
    "def _make_ix_like(X,dim):\n",
    "    d = X.size(dim)\n",
    "    rho = torch.arange(1,d+1,device=X.device, dtype=X.dtype)\n",
    "    view = [1]*X.dim()\n",
    "    view[0] = -1\n",
    "    return rho.view(view).transpose(0,dim)\n",
    "\n",
    "\n",
    "def _sparsemax_threshold_and_support(X, dim=-1, k=None):\n",
    "    \n",
    "    if k is None or k >= X.shape[dim]:  # do full sort\n",
    "        # descending, values & indexes\n",
    "        topk, _ = torch.sort(X, dim=dim, descending=True)\n",
    "    else:\n",
    "        topk, _ = torch.topk(X, k=k, dim=dim)\n",
    "    \n",
    "    print(\"topk\", topk)\n",
    "    topk_cumsum = topk.cumsum(dim) - 1\n",
    "    # [[[[1,2,3,4,5]]]] => size: X.dim() , 1,1,1,X.size(dim=-1)\n",
    "    rhos = _make_ix_like(topk, dim)\n",
    "    print(\"rhos\", rhos)\n",
    "    print(\"rhos*topk\", rhos*topk)\n",
    "    print(\"topk_cumsum\",topk_cumsum)\n",
    "    \n",
    "    # bool sum => int \n",
    "     # rhos는 각 row마다 위치분포를 나타냄\n",
    "     # topk는 X의 큰->작은 분포로 변환\n",
    "     # topk cumsum은 뒤로 갈수록 작->큰 분포로 변환 \n",
    "     # row의 분포들을 바꾸는데\n",
    "    support = rhos * topk > topk_cumsum\n",
    "    print(\"support\", support)\n",
    "    # 넘는 것들만 카운트해서 숫자를 row마다 1개씩 반환 (인덱스 역할)\n",
    "    support_size = support.sum(dim=dim).unsqueeze(dim)\n",
    "    print(\"support_size\",support_size)\n",
    "    # topk_cumsum에서 경계선을 가름\n",
    "    tau = topk_cumsum.gather(dim, support_size - 1)\n",
    "    print(\"tau1\",tau)\n",
    "    # [1,1,200,1]\n",
    "    tau /= support_size.to(X.dtype)\n",
    "    print(\"tau2\",tau)\n",
    "    if k is not None and k < X.shape[dim]:\n",
    "        unsolved = (support_size == k).squeeze(dim)\n",
    "\n",
    "        if torch.any(unsolved):\n",
    "            in_ = _roll_last(X, dim)[unsolved]\n",
    "            tau_, ss_ = _sparsemax_threshold_and_support(in_, dim=-1, k=2 * k)\n",
    "            _roll_last(tau, dim)[unsolved] = tau_\n",
    "            _roll_last(support_size, dim)[unsolved] = ss_\n",
    "\n",
    "    return tau, support_size\n",
    "\n",
    "class SparsemaxFunction(Function):\n",
    "    @classmethod\n",
    "    def forward(cls, ctx, X, dim=-1, k=None):\n",
    "        \"\"\"\n",
    "        ctx : 역전파 연산을 위한 정보 저장 object\n",
    "        \"\"\"\n",
    "        ctx.dim = dim\n",
    "        # max_val : column max 1 \n",
    "        max_val, _ = X.max(dim=dim, keepdim=True)\n",
    "        X = X - max_val  # same numerical stability trick as softmax\n",
    "        print(\"X\", X)\n",
    "        tau, supp_size = _sparsemax_threshold_and_support(X, dim=dim, k=k)\n",
    "        # z -tau\n",
    "        output = torch.clamp(X - tau, min=0)\n",
    "        # backward\n",
    "        ctx.save_for_backward(supp_size, output)\n",
    "        return output\n",
    "\n",
    "    @classmethod\n",
    "    def backward(cls, ctx, grad_output):\n",
    "        supp_size, output = ctx.saved_tensors\n",
    "        dim = ctx.dim\n",
    "        grad_input = grad_output.clone()\n",
    "        grad_input[output == 0] = 0\n",
    "\n",
    "        v_hat = grad_input.sum(dim=dim) / supp_size.to(output.dtype).squeeze()\n",
    "        v_hat = v_hat.unsqueeze(dim)\n",
    "        grad_input = torch.where(output != 0, grad_input - v_hat, grad_input)\n",
    "        return grad_input, None, None\n",
    "\n",
    "def sparsemax(X,dim=-1,k=None):\n",
    "    return SparsemaxFunction.apply(X,dim,k)"
   ]
  },
  {
   "cell_type": "code",
   "execution_count": 101,
   "metadata": {},
   "outputs": [],
   "source": [
    "x_ = torch.randn(10,10)"
   ]
  },
  {
   "cell_type": "code",
   "execution_count": 109,
   "metadata": {},
   "outputs": [],
   "source": [
    "k = np.random.randint(10)"
   ]
  },
  {
   "cell_type": "code",
   "execution_count": 110,
   "metadata": {},
   "outputs": [],
   "source": [
    "x_[k] = x_[k]*8"
   ]
  },
  {
   "cell_type": "code",
   "execution_count": 111,
   "metadata": {},
   "outputs": [
    {
     "data": {
      "text/plain": [
       "tensor([[-1.1396e+00,  2.3982e-01, -7.9729e-01,  2.6914e-01,  2.6597e-01,\n",
       "          8.8505e-01, -9.2974e-01, -6.8355e-01, -6.9846e-01,  9.1334e-01],\n",
       "        [ 2.5854e-01,  4.1953e-01,  1.2562e-01,  1.4634e+00,  2.3153e-01,\n",
       "         -1.0106e-01,  3.8992e-01,  3.8638e-01,  5.9428e-01, -1.6422e+00],\n",
       "        [ 1.8960e+00,  7.6914e-02, -2.4006e-01, -1.2993e+00, -5.8890e-01,\n",
       "          2.2636e+00, -1.8875e-01, -1.3250e+00, -4.1252e-01,  1.9590e+00],\n",
       "        [-3.2919e-01, -1.4407e+00, -7.6573e-01,  1.6542e+00, -1.2928e+00,\n",
       "          1.5508e+00,  1.6515e+00,  3.1472e-01,  4.9647e-01, -5.2676e-01],\n",
       "        [-1.0158e-01, -2.9586e-01, -1.3272e+00,  1.3220e+00, -9.6101e-01,\n",
       "         -1.5403e+00,  2.2889e+00,  1.4336e+00,  1.6633e+00,  5.2228e-01],\n",
       "        [ 1.6070e+00,  1.5236e+00,  8.0371e-01, -9.5603e-01, -9.7498e-01,\n",
       "         -3.0489e-01, -3.6943e-01, -5.2686e-01,  2.4375e-02, -8.6321e-01],\n",
       "        [-2.2010e-01, -2.5884e-02, -1.7446e+00,  1.4976e+00, -1.6588e+00,\n",
       "         -1.2994e-01,  4.7098e-01,  7.6850e-01, -1.1402e+00, -3.4743e-01],\n",
       "        [ 3.7835e+00,  7.7622e+01,  3.0496e+01,  1.5836e+01,  1.5493e+01,\n",
       "          5.1450e+00,  3.1933e+01,  4.1776e-01,  1.0474e+01,  3.0258e+01],\n",
       "        [-6.1845e+00,  1.3029e+01, -2.7927e+00, -1.1789e+01, -2.1630e-02,\n",
       "          4.0591e+00, -6.0358e+00,  1.1871e+01,  6.2912e+00, -7.5187e+00],\n",
       "        [ 6.1340e-01,  6.7454e-01,  1.0614e+00, -1.2586e+00,  2.3233e+00,\n",
       "         -4.0476e-01,  3.7812e-01,  6.1985e-01,  1.0460e+00, -1.0713e+00]])"
      ]
     },
     "execution_count": 111,
     "metadata": {},
     "output_type": "execute_result"
    }
   ],
   "source": [
    "x_"
   ]
  },
  {
   "cell_type": "code",
   "execution_count": 21,
   "metadata": {},
   "outputs": [],
   "source": [
    "x = torch.tensor([-2,3,0.9,2.4,-1])"
   ]
  },
  {
   "cell_type": "code",
   "execution_count": 115,
   "metadata": {},
   "outputs": [
    {
     "name": "stderr",
     "output_type": "stream",
     "text": [
      "/home/enliai/.local/lib/python3.6/site-packages/ipykernel_launcher.py:1: UserWarning: Implicit dimension choice for softmax has been deprecated. Change the call to include dim=X as an argument.\n",
      "  \"\"\"Entry point for launching an IPython kernel.\n"
     ]
    },
    {
     "data": {
      "text/plain": [
       "tensor([0.0842, 0.0989, 0.0737, 0.2808, 0.0819, 0.0587, 0.0960, 0.0956, 0.1177,\n",
       "        0.0126])"
      ]
     },
     "execution_count": 115,
     "metadata": {},
     "output_type": "execute_result"
    }
   ],
   "source": [
    "torch.nn.functional.softmax(x_[1])"
   ]
  },
  {
   "cell_type": "code",
   "execution_count": 117,
   "metadata": {
    "scrolled": false
   },
   "outputs": [
    {
     "name": "stdout",
     "output_type": "stream",
     "text": [
      "X tensor([-1.2048, -1.0438, -1.3377,  0.0000, -1.2318, -1.5644, -1.0734, -1.0770,\n",
      "        -0.8691, -3.1056])\n",
      "topk tensor([ 0.0000, -0.8691, -1.0438, -1.0734, -1.0770, -1.2048, -1.2318, -1.3377,\n",
      "        -1.5644, -3.1056])\n",
      "rhos tensor([ 1.,  2.,  3.,  4.,  5.,  6.,  7.,  8.,  9., 10.])\n",
      "rhos*topk tensor([  0.0000,  -1.7382,  -3.1315,  -4.2938,  -5.3849,  -7.2290,  -8.6228,\n",
      "        -10.7020, -14.0798, -31.0559])\n",
      "topk_cumsum tensor([ -1.0000,  -1.8691,  -2.9129,  -3.9864,  -5.0634,  -6.2682,  -7.5000,\n",
      "         -8.8378, -10.4022, -13.5078])\n",
      "support tensor([ True,  True, False, False, False, False, False, False, False, False])\n",
      "support_size tensor([2])\n",
      "tau1 tensor([-1.8691])\n",
      "tau2 tensor([-0.9345])\n"
     ]
    },
    {
     "data": {
      "text/plain": [
       "tensor([0.0000, 0.0000, 0.0000, 0.9345, 0.0000, 0.0000, 0.0000, 0.0000, 0.0655,\n",
       "        0.0000])"
      ]
     },
     "execution_count": 117,
     "metadata": {},
     "output_type": "execute_result"
    }
   ],
   "source": [
    "sparsemax(x_[1])"
   ]
  },
  {
   "cell_type": "code",
   "execution_count": null,
   "metadata": {},
   "outputs": [],
   "source": []
  },
  {
   "cell_type": "code",
   "execution_count": null,
   "metadata": {},
   "outputs": [],
   "source": []
  },
  {
   "cell_type": "code",
   "execution_count": null,
   "metadata": {},
   "outputs": [],
   "source": []
  },
  {
   "cell_type": "code",
   "execution_count": null,
   "metadata": {},
   "outputs": [],
   "source": []
  }
 ],
 "metadata": {
  "kernelspec": {
   "display_name": "Python 3",
   "language": "python",
   "name": "python3"
  },
  "language_info": {
   "codemirror_mode": {
    "name": "ipython",
    "version": 3
   },
   "file_extension": ".py",
   "mimetype": "text/x-python",
   "name": "python",
   "nbconvert_exporter": "python",
   "pygments_lexer": "ipython3",
   "version": "3.6.7"
  }
 },
 "nbformat": 4,
 "nbformat_minor": 2
}
